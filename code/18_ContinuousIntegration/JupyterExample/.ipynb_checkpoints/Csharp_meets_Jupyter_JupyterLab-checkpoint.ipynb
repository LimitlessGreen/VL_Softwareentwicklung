{
 "cells": [
  {
   "cell_type": "markdown",
   "id": "33b4a983",
   "metadata": {},
   "source": [
    "# C# in Jupyter Notebooks"
   ]
  },
  {
   "cell_type": "code",
   "execution_count": null,
   "id": "6c91aadb",
   "metadata": {},
   "outputs": [],
   "source": [
    "Console.WriteLine(\"Jupyter + .Net\")"
   ]
  },
  {
   "cell_type": "code",
   "execution_count": null,
   "id": "bc55e2c6",
   "metadata": {},
   "outputs": [],
   "source": [
    "var i = 5;\n",
    "var j = 6;"
   ]
  },
  {
   "cell_type": "code",
   "execution_count": null,
   "id": "8f473434",
   "metadata": {},
   "outputs": [],
   "source": [
    "Console.WriteLine(i + j);"
   ]
  },
  {
   "cell_type": "markdown",
   "id": "43ef09f7",
   "metadata": {},
   "source": [
    "With Markdown based comments you can explain you code ...\n",
    "\n",
    "$$\n",
    "a^2 + b^2 = c^2\n",
    "$$\n",
    "\n",
    "[Wikipedia](www.wikipedia.de)"
   ]
  },
  {
   "cell_type": "markdown",
   "id": "882df0cb",
   "metadata": {},
   "source": [
    "## Einstiegsbeispiel"
   ]
  },
  {
   "cell_type": "code",
   "execution_count": null,
   "id": "03800de4",
   "metadata": {},
   "outputs": [],
   "source": [
    "public class Animal\n",
    "{\n",
    "    public void Sleep()\n",
    "    {\n",
    "        Console.WriteLine(\"Zzzzzz\");\n",
    "    }\n",
    "\n",
    "    public virtual void MakeNoise()\n",
    "    {\n",
    "        Console.WriteLine(\"DurrrDurrr\");\n",
    "    }\n",
    "}\n",
    "\n",
    "class Dog : Animal\n",
    "{\n",
    "    public override void MakeNoise()\n",
    "    {\n",
    "        Console.WriteLine(\"WoofWoof\");\n",
    "    }\n",
    "}"
   ]
  },
  {
   "cell_type": "code",
   "execution_count": null,
   "id": "c6586ddb",
   "metadata": {},
   "outputs": [],
   "source": [
    "Dog Rex = new Dog();\n",
    "Rex.Sleep();"
   ]
  },
  {
   "cell_type": "markdown",
   "id": "0ffe6c9a",
   "metadata": {},
   "source": [
    "## ... etwas ausgefeilter "
   ]
  },
  {
   "cell_type": "code",
   "execution_count": null,
   "id": "758b6e5e",
   "metadata": {},
   "outputs": [],
   "source": [
    "// hier sind Sie gefragt :-)"
   ]
  },
  {
   "cell_type": "code",
   "execution_count": null,
   "id": "ce624359",
   "metadata": {},
   "outputs": [],
   "source": []
  }
 ],
 "metadata": {
  "kernelspec": {
   "display_name": ".NET (C#)",
   "language": "C#",
   "name": ".net-csharp"
  },
  "language_info": {
   "file_extension": ".cs",
   "mimetype": "text/x-csharp",
   "name": "C#",
   "pygments_lexer": "csharp",
   "version": "8.0"
  }
 },
 "nbformat": 4,
 "nbformat_minor": 5
}
