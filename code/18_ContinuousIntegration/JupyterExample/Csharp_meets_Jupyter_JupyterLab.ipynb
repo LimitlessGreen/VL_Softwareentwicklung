{
 "cells": [
  {
   "attachments": {},
   "cell_type": "markdown",
   "id": "33b4a983",
   "metadata": {},
   "source": [
    "# C# in Jupyter Notebooks"
   ]
  },
  {
   "cell_type": "code",
   "execution_count": 1,
   "id": "6c91aadb",
   "metadata": {
    "vscode": {
     "languageId": "polyglot-notebook"
    }
   },
   "outputs": [
    {
     "name": "stdout",
     "output_type": "stream",
     "text": [
      "Jupyter + .Net\n"
     ]
    }
   ],
   "source": [
    "Console.WriteLine(\"Jupyter + .Net\")"
   ]
  },
  {
   "cell_type": "code",
   "execution_count": 2,
   "id": "bc55e2c6",
   "metadata": {
    "vscode": {
     "languageId": "polyglot-notebook"
    }
   },
   "outputs": [],
   "source": [
    "var i = 5;\n",
    "var j = 6;"
   ]
  },
  {
   "cell_type": "code",
   "execution_count": 3,
   "id": "8f473434",
   "metadata": {
    "vscode": {
     "languageId": "polyglot-notebook"
    }
   },
   "outputs": [
    {
     "name": "stdout",
     "output_type": "stream",
     "text": [
      "11\n"
     ]
    }
   ],
   "source": [
    "Console.WriteLine(i + j);"
   ]
  },
  {
   "attachments": {},
   "cell_type": "markdown",
   "id": "43ef09f7",
   "metadata": {},
   "source": [
    "With Markdown based comments you can explain you code ...\n",
    "\n",
    "$$\n",
    "a^2 + b^2 = c^2\n",
    "$$\n",
    "\n",
    "[Wikipedia](www.wikipedia.de)"
   ]
  },
  {
   "attachments": {},
   "cell_type": "markdown",
   "id": "882df0cb",
   "metadata": {},
   "source": [
    "## Einstiegsbeispiel"
   ]
  },
  {
   "cell_type": "code",
   "execution_count": 4,
   "id": "03800de4",
   "metadata": {
    "vscode": {
     "languageId": "polyglot-notebook"
    }
   },
   "outputs": [],
   "source": [
    "public class Animal\n",
    "{\n",
    "    public void Sleep()\n",
    "    {\n",
    "        Console.WriteLine(\"Zzzzzz\");\n",
    "    }\n",
    "\n",
    "    public virtual void MakeNoise()\n",
    "    {\n",
    "        Console.WriteLine(\"DurrrDurrr\");\n",
    "    }\n",
    "}\n",
    "\n",
    "class Dog : Animal\n",
    "{\n",
    "    public override void MakeNoise()\n",
    "    {\n",
    "        Console.WriteLine(\"WoofWoof\");\n",
    "    }\n",
    "}"
   ]
  },
  {
   "cell_type": "code",
   "execution_count": 5,
   "id": "c6586ddb",
   "metadata": {
    "vscode": {
     "languageId": "polyglot-notebook"
    }
   },
   "outputs": [
    {
     "name": "stdout",
     "output_type": "stream",
     "text": [
      "Zzzzzz\n"
     ]
    }
   ],
   "source": [
    "Dog Rex = new Dog();\n",
    "Rex.Sleep();"
   ]
  },
  {
   "attachments": {},
   "cell_type": "markdown",
   "id": "0ffe6c9a",
   "metadata": {},
   "source": [
    "## ... etwas ausgefeilter "
   ]
  },
  {
   "cell_type": "code",
   "execution_count": null,
   "id": "758b6e5e",
   "metadata": {
    "vscode": {
     "languageId": "polyglot-notebook"
    }
   },
   "outputs": [],
   "source": [
    "// hier sind Sie gefragt :-)"
   ]
  },
  {
   "cell_type": "code",
   "execution_count": null,
   "metadata": {
    "dotnet_interactive": {
     "language": "csharp"
    },
    "polyglot_notebook": {
     "kernelName": "csharp"
    },
    "vscode": {
     "languageId": "polyglot-notebook"
    }
   },
   "outputs": [],
   "source": []
  }
 ],
 "metadata": {
  "kernelspec": {
   "display_name": ".NET (C#)",
   "language": "C#",
   "name": ".net-csharp"
  },
  "language_info": {
   "file_extension": ".cs",
   "mimetype": "text/x-csharp",
   "name": "C#",
   "pygments_lexer": "csharp",
   "version": "8.0"
  }
 },
 "nbformat": 4,
 "nbformat_minor": 5
}
