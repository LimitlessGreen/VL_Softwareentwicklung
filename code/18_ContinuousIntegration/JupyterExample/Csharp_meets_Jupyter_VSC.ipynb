{
 "cells": [
  {
   "attachments": {},
   "cell_type": "markdown",
   "metadata": {},
   "source": [
    "# Csharp meets Jupyter Notebooks"
   ]
  },
  {
   "cell_type": "code",
   "execution_count": 2,
   "metadata": {
    "dotnet_interactive": {
     "language": "csharp"
    },
    "vscode": {
     "languageId": "polyglot-notebook"
    }
   },
   "outputs": [
    {
     "data": {
      "text/html": [
       "<div><div></div><div></div><div><strong>Installed Packages</strong><ul><li><span>Microsoft.Data.Analysis, 0.4.0</span></li><li><span>xplot.plotly.interactive, 4.0.7</span></li></ul></div></div>"
      ]
     },
     "metadata": {},
     "output_type": "display_data"
    },
    {
     "data": {
      "text/plain": [
       "Loading extensions from `/home/sebastian/.nuget/packages/xplot.plotly.interactive/4.0.7/interactive-extensions/dotnet/XPlot.Plotly.Interactive.dll`"
      ]
     },
     "metadata": {},
     "output_type": "display_data"
    },
    {
     "data": {
      "text/markdown": [
       "Configuring PowerShell Kernel for XPlot.Plotly integration."
      ]
     },
     "metadata": {},
     "output_type": "display_data"
    },
    {
     "data": {
      "text/markdown": [
       "Installed support for XPlot.Plotly."
      ]
     },
     "metadata": {},
     "output_type": "display_data"
    }
   ],
   "source": [
    "#r \"nuget:Microsoft.Data.Analysis,0.4.0\"\n",
    "#r \"nuget:xplot.plotly.interactive\"\n",
    "\n",
    "using Microsoft.Data.Analysis;\n",
    "using static Microsoft.DotNet.Interactive.Formatting.PocketViewTags;\n",
    "using Microsoft.DotNet.Interactive.Formatting;\n",
    "using XPlot.Plotly;"
   ]
  },
  {
   "attachments": {},
   "cell_type": "markdown",
   "metadata": {},
   "source": [
    "This code is necessary to beautify outputs."
   ]
  },
  {
   "cell_type": "code",
   "execution_count": 3,
   "metadata": {
    "dotnet_interactive": {
     "language": "csharp"
    },
    "vscode": {
     "languageId": "polyglot-notebook"
    }
   },
   "outputs": [],
   "source": [
    "using Microsoft.AspNetCore.Html;\n",
    "Formatter.Register<DataFrame>((df, writer) =>\n",
    "{\n",
    "    var headers = new List<IHtmlContent>();\n",
    "    headers.Add(th(i(\"index\")));\n",
    "    headers.AddRange(df.Columns.Select(c => (IHtmlContent) th(c.Name)));\n",
    "    var rows = new List<List<IHtmlContent>>();\n",
    "    var take = 20;\n",
    "    for (var i = 0; i < Math.Min(take, df.Rows.Count); i++)\n",
    "    {\n",
    "        var cells = new List<IHtmlContent>();\n",
    "        cells.Add(td(i));\n",
    "        foreach (var obj in df.Rows[i])\n",
    "        {\n",
    "            cells.Add(td(obj));\n",
    "        }\n",
    "        rows.Add(cells);\n",
    "    }\n",
    "    \n",
    "    var t = table(\n",
    "        thead(\n",
    "            headers),\n",
    "        tbody(\n",
    "            rows.Select(\n",
    "                r => tr(r))));\n",
    "    \n",
    "    writer.Write(t);\n",
    "}, \"text/html\");"
   ]
  },
  {
   "cell_type": "code",
   "execution_count": 4,
   "metadata": {
    "dotnet_interactive": {
     "language": "csharp"
    },
    "vscode": {
     "languageId": "polyglot-notebook"
    }
   },
   "outputs": [
    {
     "data": {
      "text/html": [
       "<table><thead><th><i>index</i></th><th>longitude</th><th>latitude</th><th>housing_median_age</th><th>total_rooms</th><th>total_bedrooms</th><th>population</th><th>households</th><th>median_income</th><th>median_house_value</th><th>ocean_proximity</th></thead><tbody><tr><td><div class=\"dni-plaintext\"><pre>0</pre></div></td><td><div class=\"dni-plaintext\"><pre>-122.23</pre></div></td><td><div class=\"dni-plaintext\"><pre>37.88</pre></div></td><td><div class=\"dni-plaintext\"><pre>41</pre></div></td><td><div class=\"dni-plaintext\"><pre>880</pre></div></td><td><div class=\"dni-plaintext\"><pre>129</pre></div></td><td><div class=\"dni-plaintext\"><pre>322</pre></div></td><td><div class=\"dni-plaintext\"><pre>126</pre></div></td><td><div class=\"dni-plaintext\"><pre>8.3252</pre></div></td><td><div class=\"dni-plaintext\"><pre>452600</pre></div></td><td>NEAR BAY</td></tr><tr><td><div class=\"dni-plaintext\"><pre>1</pre></div></td><td><div class=\"dni-plaintext\"><pre>-122.22</pre></div></td><td><div class=\"dni-plaintext\"><pre>37.86</pre></div></td><td><div class=\"dni-plaintext\"><pre>21</pre></div></td><td><div class=\"dni-plaintext\"><pre>7099</pre></div></td><td><div class=\"dni-plaintext\"><pre>1106</pre></div></td><td><div class=\"dni-plaintext\"><pre>2401</pre></div></td><td><div class=\"dni-plaintext\"><pre>1138</pre></div></td><td><div class=\"dni-plaintext\"><pre>8.3014</pre></div></td><td><div class=\"dni-plaintext\"><pre>358500</pre></div></td><td>NEAR BAY</td></tr><tr><td><div class=\"dni-plaintext\"><pre>2</pre></div></td><td><div class=\"dni-plaintext\"><pre>-122.24</pre></div></td><td><div class=\"dni-plaintext\"><pre>37.85</pre></div></td><td><div class=\"dni-plaintext\"><pre>52</pre></div></td><td><div class=\"dni-plaintext\"><pre>1467</pre></div></td><td><div class=\"dni-plaintext\"><pre>190</pre></div></td><td><div class=\"dni-plaintext\"><pre>496</pre></div></td><td><div class=\"dni-plaintext\"><pre>177</pre></div></td><td><div class=\"dni-plaintext\"><pre>7.2574</pre></div></td><td><div class=\"dni-plaintext\"><pre>352100</pre></div></td><td>NEAR BAY</td></tr><tr><td><div class=\"dni-plaintext\"><pre>3</pre></div></td><td><div class=\"dni-plaintext\"><pre>-122.25</pre></div></td><td><div class=\"dni-plaintext\"><pre>37.85</pre></div></td><td><div class=\"dni-plaintext\"><pre>52</pre></div></td><td><div class=\"dni-plaintext\"><pre>1274</pre></div></td><td><div class=\"dni-plaintext\"><pre>235</pre></div></td><td><div class=\"dni-plaintext\"><pre>558</pre></div></td><td><div class=\"dni-plaintext\"><pre>219</pre></div></td><td><div class=\"dni-plaintext\"><pre>5.6431</pre></div></td><td><div class=\"dni-plaintext\"><pre>341300</pre></div></td><td>NEAR BAY</td></tr><tr><td><div class=\"dni-plaintext\"><pre>4</pre></div></td><td><div class=\"dni-plaintext\"><pre>-122.25</pre></div></td><td><div class=\"dni-plaintext\"><pre>37.85</pre></div></td><td><div class=\"dni-plaintext\"><pre>52</pre></div></td><td><div class=\"dni-plaintext\"><pre>1627</pre></div></td><td><div class=\"dni-plaintext\"><pre>280</pre></div></td><td><div class=\"dni-plaintext\"><pre>565</pre></div></td><td><div class=\"dni-plaintext\"><pre>259</pre></div></td><td><div class=\"dni-plaintext\"><pre>3.8462</pre></div></td><td><div class=\"dni-plaintext\"><pre>342200</pre></div></td><td>NEAR BAY</td></tr><tr><td><div class=\"dni-plaintext\"><pre>5</pre></div></td><td><div class=\"dni-plaintext\"><pre>-122.25</pre></div></td><td><div class=\"dni-plaintext\"><pre>37.85</pre></div></td><td><div class=\"dni-plaintext\"><pre>52</pre></div></td><td><div class=\"dni-plaintext\"><pre>919</pre></div></td><td><div class=\"dni-plaintext\"><pre>213</pre></div></td><td><div class=\"dni-plaintext\"><pre>413</pre></div></td><td><div class=\"dni-plaintext\"><pre>193</pre></div></td><td><div class=\"dni-plaintext\"><pre>4.0368</pre></div></td><td><div class=\"dni-plaintext\"><pre>269700</pre></div></td><td>NEAR BAY</td></tr><tr><td><div class=\"dni-plaintext\"><pre>6</pre></div></td><td><div class=\"dni-plaintext\"><pre>-122.25</pre></div></td><td><div class=\"dni-plaintext\"><pre>37.84</pre></div></td><td><div class=\"dni-plaintext\"><pre>52</pre></div></td><td><div class=\"dni-plaintext\"><pre>2535</pre></div></td><td><div class=\"dni-plaintext\"><pre>489</pre></div></td><td><div class=\"dni-plaintext\"><pre>1094</pre></div></td><td><div class=\"dni-plaintext\"><pre>514</pre></div></td><td><div class=\"dni-plaintext\"><pre>3.6591</pre></div></td><td><div class=\"dni-plaintext\"><pre>299200</pre></div></td><td>NEAR BAY</td></tr><tr><td><div class=\"dni-plaintext\"><pre>7</pre></div></td><td><div class=\"dni-plaintext\"><pre>-122.25</pre></div></td><td><div class=\"dni-plaintext\"><pre>37.84</pre></div></td><td><div class=\"dni-plaintext\"><pre>52</pre></div></td><td><div class=\"dni-plaintext\"><pre>3104</pre></div></td><td><div class=\"dni-plaintext\"><pre>687</pre></div></td><td><div class=\"dni-plaintext\"><pre>1157</pre></div></td><td><div class=\"dni-plaintext\"><pre>647</pre></div></td><td><div class=\"dni-plaintext\"><pre>3.12</pre></div></td><td><div class=\"dni-plaintext\"><pre>241400</pre></div></td><td>NEAR BAY</td></tr><tr><td><div class=\"dni-plaintext\"><pre>8</pre></div></td><td><div class=\"dni-plaintext\"><pre>-122.26</pre></div></td><td><div class=\"dni-plaintext\"><pre>37.84</pre></div></td><td><div class=\"dni-plaintext\"><pre>42</pre></div></td><td><div class=\"dni-plaintext\"><pre>2555</pre></div></td><td><div class=\"dni-plaintext\"><pre>665</pre></div></td><td><div class=\"dni-plaintext\"><pre>1206</pre></div></td><td><div class=\"dni-plaintext\"><pre>595</pre></div></td><td><div class=\"dni-plaintext\"><pre>2.0804</pre></div></td><td><div class=\"dni-plaintext\"><pre>226700</pre></div></td><td>NEAR BAY</td></tr><tr><td><div class=\"dni-plaintext\"><pre>9</pre></div></td><td><div class=\"dni-plaintext\"><pre>-122.25</pre></div></td><td><div class=\"dni-plaintext\"><pre>37.84</pre></div></td><td><div class=\"dni-plaintext\"><pre>52</pre></div></td><td><div class=\"dni-plaintext\"><pre>3549</pre></div></td><td><div class=\"dni-plaintext\"><pre>707</pre></div></td><td><div class=\"dni-plaintext\"><pre>1551</pre></div></td><td><div class=\"dni-plaintext\"><pre>714</pre></div></td><td><div class=\"dni-plaintext\"><pre>3.6912</pre></div></td><td><div class=\"dni-plaintext\"><pre>261100</pre></div></td><td>NEAR BAY</td></tr><tr><td><div class=\"dni-plaintext\"><pre>10</pre></div></td><td><div class=\"dni-plaintext\"><pre>-122.26</pre></div></td><td><div class=\"dni-plaintext\"><pre>37.85</pre></div></td><td><div class=\"dni-plaintext\"><pre>52</pre></div></td><td><div class=\"dni-plaintext\"><pre>2202</pre></div></td><td><div class=\"dni-plaintext\"><pre>434</pre></div></td><td><div class=\"dni-plaintext\"><pre>910</pre></div></td><td><div class=\"dni-plaintext\"><pre>402</pre></div></td><td><div class=\"dni-plaintext\"><pre>3.2031</pre></div></td><td><div class=\"dni-plaintext\"><pre>281500</pre></div></td><td>NEAR BAY</td></tr><tr><td><div class=\"dni-plaintext\"><pre>11</pre></div></td><td><div class=\"dni-plaintext\"><pre>-122.26</pre></div></td><td><div class=\"dni-plaintext\"><pre>37.85</pre></div></td><td><div class=\"dni-plaintext\"><pre>52</pre></div></td><td><div class=\"dni-plaintext\"><pre>3503</pre></div></td><td><div class=\"dni-plaintext\"><pre>752</pre></div></td><td><div class=\"dni-plaintext\"><pre>1504</pre></div></td><td><div class=\"dni-plaintext\"><pre>734</pre></div></td><td><div class=\"dni-plaintext\"><pre>3.2705</pre></div></td><td><div class=\"dni-plaintext\"><pre>241800</pre></div></td><td>NEAR BAY</td></tr><tr><td><div class=\"dni-plaintext\"><pre>12</pre></div></td><td><div class=\"dni-plaintext\"><pre>-122.26</pre></div></td><td><div class=\"dni-plaintext\"><pre>37.85</pre></div></td><td><div class=\"dni-plaintext\"><pre>52</pre></div></td><td><div class=\"dni-plaintext\"><pre>2491</pre></div></td><td><div class=\"dni-plaintext\"><pre>474</pre></div></td><td><div class=\"dni-plaintext\"><pre>1098</pre></div></td><td><div class=\"dni-plaintext\"><pre>468</pre></div></td><td><div class=\"dni-plaintext\"><pre>3.075</pre></div></td><td><div class=\"dni-plaintext\"><pre>213500</pre></div></td><td>NEAR BAY</td></tr><tr><td><div class=\"dni-plaintext\"><pre>13</pre></div></td><td><div class=\"dni-plaintext\"><pre>-122.26</pre></div></td><td><div class=\"dni-plaintext\"><pre>37.84</pre></div></td><td><div class=\"dni-plaintext\"><pre>52</pre></div></td><td><div class=\"dni-plaintext\"><pre>696</pre></div></td><td><div class=\"dni-plaintext\"><pre>191</pre></div></td><td><div class=\"dni-plaintext\"><pre>345</pre></div></td><td><div class=\"dni-plaintext\"><pre>174</pre></div></td><td><div class=\"dni-plaintext\"><pre>2.6736</pre></div></td><td><div class=\"dni-plaintext\"><pre>191300</pre></div></td><td>NEAR BAY</td></tr><tr><td><div class=\"dni-plaintext\"><pre>14</pre></div></td><td><div class=\"dni-plaintext\"><pre>-122.26</pre></div></td><td><div class=\"dni-plaintext\"><pre>37.85</pre></div></td><td><div class=\"dni-plaintext\"><pre>52</pre></div></td><td><div class=\"dni-plaintext\"><pre>2643</pre></div></td><td><div class=\"dni-plaintext\"><pre>626</pre></div></td><td><div class=\"dni-plaintext\"><pre>1212</pre></div></td><td><div class=\"dni-plaintext\"><pre>620</pre></div></td><td><div class=\"dni-plaintext\"><pre>1.9167</pre></div></td><td><div class=\"dni-plaintext\"><pre>159200</pre></div></td><td>NEAR BAY</td></tr><tr><td><div class=\"dni-plaintext\"><pre>15</pre></div></td><td><div class=\"dni-plaintext\"><pre>-122.26</pre></div></td><td><div class=\"dni-plaintext\"><pre>37.85</pre></div></td><td><div class=\"dni-plaintext\"><pre>50</pre></div></td><td><div class=\"dni-plaintext\"><pre>1120</pre></div></td><td><div class=\"dni-plaintext\"><pre>283</pre></div></td><td><div class=\"dni-plaintext\"><pre>697</pre></div></td><td><div class=\"dni-plaintext\"><pre>264</pre></div></td><td><div class=\"dni-plaintext\"><pre>2.125</pre></div></td><td><div class=\"dni-plaintext\"><pre>140000</pre></div></td><td>NEAR BAY</td></tr><tr><td><div class=\"dni-plaintext\"><pre>16</pre></div></td><td><div class=\"dni-plaintext\"><pre>-122.27</pre></div></td><td><div class=\"dni-plaintext\"><pre>37.85</pre></div></td><td><div class=\"dni-plaintext\"><pre>52</pre></div></td><td><div class=\"dni-plaintext\"><pre>1966</pre></div></td><td><div class=\"dni-plaintext\"><pre>347</pre></div></td><td><div class=\"dni-plaintext\"><pre>793</pre></div></td><td><div class=\"dni-plaintext\"><pre>331</pre></div></td><td><div class=\"dni-plaintext\"><pre>2.775</pre></div></td><td><div class=\"dni-plaintext\"><pre>152500</pre></div></td><td>NEAR BAY</td></tr><tr><td><div class=\"dni-plaintext\"><pre>17</pre></div></td><td><div class=\"dni-plaintext\"><pre>-122.27</pre></div></td><td><div class=\"dni-plaintext\"><pre>37.85</pre></div></td><td><div class=\"dni-plaintext\"><pre>52</pre></div></td><td><div class=\"dni-plaintext\"><pre>1228</pre></div></td><td><div class=\"dni-plaintext\"><pre>293</pre></div></td><td><div class=\"dni-plaintext\"><pre>648</pre></div></td><td><div class=\"dni-plaintext\"><pre>303</pre></div></td><td><div class=\"dni-plaintext\"><pre>2.1202</pre></div></td><td><div class=\"dni-plaintext\"><pre>155500</pre></div></td><td>NEAR BAY</td></tr><tr><td><div class=\"dni-plaintext\"><pre>18</pre></div></td><td><div class=\"dni-plaintext\"><pre>-122.26</pre></div></td><td><div class=\"dni-plaintext\"><pre>37.84</pre></div></td><td><div class=\"dni-plaintext\"><pre>50</pre></div></td><td><div class=\"dni-plaintext\"><pre>2239</pre></div></td><td><div class=\"dni-plaintext\"><pre>455</pre></div></td><td><div class=\"dni-plaintext\"><pre>990</pre></div></td><td><div class=\"dni-plaintext\"><pre>419</pre></div></td><td><div class=\"dni-plaintext\"><pre>1.9911</pre></div></td><td><div class=\"dni-plaintext\"><pre>158700</pre></div></td><td>NEAR BAY</td></tr><tr><td><div class=\"dni-plaintext\"><pre>19</pre></div></td><td><div class=\"dni-plaintext\"><pre>-122.27</pre></div></td><td><div class=\"dni-plaintext\"><pre>37.84</pre></div></td><td><div class=\"dni-plaintext\"><pre>52</pre></div></td><td><div class=\"dni-plaintext\"><pre>1503</pre></div></td><td><div class=\"dni-plaintext\"><pre>298</pre></div></td><td><div class=\"dni-plaintext\"><pre>690</pre></div></td><td><div class=\"dni-plaintext\"><pre>275</pre></div></td><td><div class=\"dni-plaintext\"><pre>2.6033</pre></div></td><td><div class=\"dni-plaintext\"><pre>162900</pre></div></td><td>NEAR BAY</td></tr></tbody></table><style>\r\n",
       ".dni-code-hint {\r\n",
       "    font-style: italic;\r\n",
       "    overflow: hidden;\r\n",
       "    white-space: nowrap;\r\n",
       "}\r\n",
       ".dni-treeview {\r\n",
       "    white-space: nowrap;\r\n",
       "}\r\n",
       ".dni-treeview td {\r\n",
       "    vertical-align: top;\r\n",
       "    text-align: start;\r\n",
       "}\r\n",
       "details.dni-treeview {\r\n",
       "    padding-left: 1em;\r\n",
       "}\r\n",
       "table td {\r\n",
       "    text-align: start;\r\n",
       "}\r\n",
       "table tr { \r\n",
       "    vertical-align: top; \r\n",
       "    margin: 0em 0px;\r\n",
       "}\r\n",
       "table tr td pre \r\n",
       "{ \r\n",
       "    vertical-align: top !important; \r\n",
       "    margin: 0em 0px !important;\r\n",
       "} \r\n",
       "table th {\r\n",
       "    text-align: start;\r\n",
       "}\r\n",
       "</style>"
      ]
     },
     "metadata": {},
     "output_type": "display_data"
    }
   ],
   "source": [
    "var data = DataFrame.LoadCsv(\"./housing.csv\", separator: ',');\n",
    "data"
   ]
  },
  {
   "cell_type": "code",
   "execution_count": 5,
   "metadata": {
    "dotnet_interactive": {
     "language": "csharp"
    },
    "vscode": {
     "languageId": "polyglot-notebook"
    }
   },
   "outputs": [
    {
     "data": {
      "text/html": [
       "<table><thead><th><i>index</i></th><th>Info</th><th>longitude</th><th>latitude</th><th>housing_median_age</th><th>total_rooms</th><th>total_bedrooms</th><th>population</th><th>households</th><th>median_income</th><th>median_house_value</th><th>ocean_proximity</th></thead><tbody><tr><td><div class=\"dni-plaintext\"><pre>0</pre></div></td><td>DataType</td><td>System.Single</td><td>System.Single</td><td>System.Single</td><td>System.Single</td><td>System.Single</td><td>System.Single</td><td>System.Single</td><td>System.Single</td><td>System.Single</td><td>System.String</td></tr><tr><td><div class=\"dni-plaintext\"><pre>1</pre></div></td><td>Length (excluding null values)</td><td>20640</td><td>20640</td><td>20640</td><td>20640</td><td>20433</td><td>20640</td><td>20640</td><td>20640</td><td>20640</td><td>20640</td></tr></tbody></table><style>\r\n",
       ".dni-code-hint {\r\n",
       "    font-style: italic;\r\n",
       "    overflow: hidden;\r\n",
       "    white-space: nowrap;\r\n",
       "}\r\n",
       ".dni-treeview {\r\n",
       "    white-space: nowrap;\r\n",
       "}\r\n",
       ".dni-treeview td {\r\n",
       "    vertical-align: top;\r\n",
       "    text-align: start;\r\n",
       "}\r\n",
       "details.dni-treeview {\r\n",
       "    padding-left: 1em;\r\n",
       "}\r\n",
       "table td {\r\n",
       "    text-align: start;\r\n",
       "}\r\n",
       "table tr { \r\n",
       "    vertical-align: top; \r\n",
       "    margin: 0em 0px;\r\n",
       "}\r\n",
       "table tr td pre \r\n",
       "{ \r\n",
       "    vertical-align: top !important; \r\n",
       "    margin: 0em 0px !important;\r\n",
       "} \r\n",
       "table th {\r\n",
       "    text-align: start;\r\n",
       "}\r\n",
       "</style>"
      ]
     },
     "metadata": {},
     "output_type": "display_data"
    }
   ],
   "source": [
    "data.Info()"
   ]
  },
  {
   "cell_type": "code",
   "execution_count": 6,
   "metadata": {
    "dotnet_interactive": {
     "language": "csharp"
    },
    "vscode": {
     "languageId": "polyglot-notebook"
    }
   },
   "outputs": [
    {
     "ename": "Error",
     "evalue": "(2,9): error CS0246: The type or namespace name 'Graph' could not be found (are you missing a using directive or an assembly reference?)\n(11,16): error CS0246: The type or namespace name 'Graph' could not be found (are you missing a using directive or an assembly reference?)\n(14,16): error CS0246: The type or namespace name 'Graph' could not be found (are you missing a using directive or an assembly reference?)",
     "output_type": "error",
     "traceback": [
      "(2,9): error CS0246: The type or namespace name 'Graph' could not be found (are you missing a using directive or an assembly reference?)\n",
      "(11,16): error CS0246: The type or namespace name 'Graph' could not be found (are you missing a using directive or an assembly reference?)\n",
      "(14,16): error CS0246: The type or namespace name 'Graph' could not be found (are you missing a using directive or an assembly reference?)"
     ]
    }
   ],
   "source": [
    "var chart1 = Chart.Plot(\n",
    "    new Graph.Scatter()\n",
    "    {\n",
    "        x = data.Columns[\"housing_median_age\"],\n",
    "        y = data.Columns[\"total_rooms\"],\n",
    "        mode = \"markers\",        \n",
    "    }\n",
    ");\n",
    "var chart1_layout = new Layout.Layout{\n",
    "    title=\"Open Price\",\n",
    "    xaxis =new Graph.Xaxis(){\n",
    "        title = \"housing_median_age\"\n",
    "        },\n",
    "    yaxis =new Graph.Yaxis(){\n",
    "    title = \"total_rooms\"\n",
    "        }           \n",
    "    };\n",
    "chart1.WithLayout(chart1_layout);\n",
    "chart1"
   ]
  },
  {
   "cell_type": "code",
   "execution_count": null,
   "metadata": {
    "dotnet_interactive": {
     "language": "csharp"
    },
    "vscode": {
     "languageId": "polyglot-notebook"
    }
   },
   "outputs": [],
   "source": []
  }
 ],
 "metadata": {
  "kernelspec": {
   "display_name": ".NET (C#)",
   "language": "C#",
   "name": ".net-csharp"
  },
  "language_info": {
   "file_extension": ".cs",
   "mimetype": "text/x-csharp",
   "name": "C#",
   "pygments_lexer": "csharp",
   "version": "8.0"
  }
 },
 "nbformat": 4,
 "nbformat_minor": 2
}
